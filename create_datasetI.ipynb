{
 "cells": [
  {
   "cell_type": "code",
   "execution_count": 1,
   "metadata": {},
   "outputs": [],
   "source": [
    "import os\n",
    "import pickle\n",
    "import cv2\n",
    "import mediapipe as mp"
   ]
  },
  {
   "cell_type": "code",
   "execution_count": 2,
   "metadata": {},
   "outputs": [],
   "source": [
    "# Import MediaPipe's hands module for hand detection and landmark estimation\n",
    "mp_hands = mp.solutions.hands\n",
    "hands = mp_hands.Hands(static_image_mode=True, min_detection_confidence=0.9)"
   ]
  },
  {
   "cell_type": "code",
   "execution_count": 3,
   "metadata": {},
   "outputs": [],
   "source": [
    "data_dir = './ISL dataset'\n",
    "dataset = []\n",
    "labels = []"
   ]
  },
  {
   "cell_type": "code",
   "execution_count": 5,
   "metadata": {},
   "outputs": [],
   "source": [
    "# Loop through each directory (representing each class) inside the dataset folder\n",
    "for directory in os.listdir(data_dir):\n",
    "    path = os.path.join(data_dir, directory)  # Construct the full path for the current class directory\n",
    "\n",
    "    # Loop through each image file in the current class directory\n",
    "    for img_path in os.listdir(path):\n",
    "        normalized_landmarks = []  # List to store normalized x, y coordinates\n",
    "        x_coordinates, y_coordinates = [], []  # Temporary lists for x and y coordinates\n",
    "\n",
    "        # Read the image\n",
    "        image_path = os.path.join(path, img_path)\n",
    "        image = cv2.imread(image_path)\n",
    "\n",
    "        # Check if the image was successfully loaded\n",
    "        if image is None:\n",
    "            print(f\"Warning: Unable to load image at path: {image_path}\")\n",
    "            continue  # Skip to the next image if loading failed\n",
    "\n",
    "        # Convert the image from BGR to RGB format (required by MediaPipe)\n",
    "        image_rgb = cv2.cvtColor(image, cv2.COLOR_BGR2RGB)\n",
    "\n",
    "        # Process the image to detect hands using MediaPipe's hand processing method\n",
    "        processed_image = hands.process(image_rgb)\n",
    "\n",
    "        # Get the hand landmarks (if any hand is detected in the image)\n",
    "        hand_landmarks = processed_image.multi_hand_landmarks\n",
    "\n",
    "        if hand_landmarks:  # If hand landmarks are found\n",
    "            for hand_landmark in hand_landmarks:\n",
    "                landmark_coordinates = hand_landmark.landmark  # Get individual landmark coordinates\n",
    "\n",
    "                # Extract the x and y coordinates of all landmarks\n",
    "                for coordinates in landmark_coordinates:\n",
    "                    x_coordinates.append(coordinates.x)\n",
    "                    y_coordinates.append(coordinates.y)\n",
    "\n",
    "                # Find the minimum x and y values to normalize the coordinates\n",
    "                min_x, min_y = min(x_coordinates), min(y_coordinates)\n",
    "\n",
    "                # Normalize the landmarks by subtracting the minimum x and y values\n",
    "                for coordinates in landmark_coordinates:\n",
    "                    normalized_x = coordinates.x - min_x\n",
    "                    normalized_y = coordinates.y - min_y\n",
    "                    normalized_landmarks.extend((normalized_x, normalized_y))  # Add normalized values to the list\n",
    "\n",
    "            # Append the normalized landmarks to the dataset\n",
    "            dataset.append(normalized_landmarks)\n",
    "\n",
    "            # Append the label (class name) for the current directory\n",
    "            labels.append(directory)"
   ]
  },
  {
   "cell_type": "code",
   "execution_count": 6,
   "metadata": {},
   "outputs": [],
   "source": [
    "# Save the dataset and labels using pickle\n",
    "with open(\"./ISLe.pickle\", \"wb\") as f:\n",
    "    pickle.dump({\"dataset\": dataset, \"labels\": labels}, f)"
   ]
  },
  {
   "cell_type": "code",
   "execution_count": null,
   "metadata": {},
   "outputs": [],
   "source": []
  }
 ],
 "metadata": {
  "kernelspec": {
   "display_name": "Python 3",
   "language": "python",
   "name": "python3"
  },
  "language_info": {
   "codemirror_mode": {
    "name": "ipython",
    "version": 3
   },
   "file_extension": ".py",
   "mimetype": "text/x-python",
   "name": "python",
   "nbconvert_exporter": "python",
   "pygments_lexer": "ipython3",
   "version": "3.12.3"
  }
 },
 "nbformat": 4,
 "nbformat_minor": 2
}
